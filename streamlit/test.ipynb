{
 "cells": [
  {
   "cell_type": "code",
   "execution_count": 1,
   "id": "2438e0f4",
   "metadata": {},
   "outputs": [
    {
     "name": "stderr",
     "output_type": "stream",
     "text": [
      "c:\\Users\\Chng Zhi Quan\\OneDrive\\Desktop\\Masters\\Courses\\Sem 1\\DS5105-Project\\venv\\Lib\\site-packages\\tqdm\\auto.py:21: TqdmWarning: IProgress not found. Please update jupyter and ipywidgets. See https://ipywidgets.readthedocs.io/en/stable/user_install.html\n",
      "  from .autonotebook import tqdm as notebook_tqdm\n"
     ]
    }
   ],
   "source": [
    "import pandas as pd\n",
    "import numpy as np\n",
    "import textwrap\n",
    "import re\n",
    "from langchain.text_splitter import RecursiveCharacterTextSplitter\n",
    "from langchain_community.document_loaders import DirectoryLoader, PyPDFLoader\n",
    "from langchain_huggingface import HuggingFaceEmbeddings\n",
    "from langchain_community.vectorstores import FAISS\n",
    "from langchain_core.documents import Document\n",
    "import json\n",
    "import time\n",
    "from typing import List, Dict, Optional, Any\n",
    "from openai import OpenAI\n",
    "from dotenv import load_dotenv\n",
    "import os\n",
    "\n",
    "# --- EMBEDDING MODEL CONFIGURATION ---\n",
    "MODEL_NAME = \"sentence-transformers/all-MiniLM-L6-v2\"\n",
    "K = 3 # Number of top results to retrieve\n",
    "embeddings = HuggingFaceEmbeddings(model_name=MODEL_NAME)"
   ]
  },
  {
   "cell_type": "code",
   "execution_count": 2,
   "id": "647a66f9",
   "metadata": {},
   "outputs": [],
   "source": [
    "def load_retriever(FAISS_INDEX_PATH, K):\n",
    "    \"\"\"\n",
    "    Loads the saved FAISS index and returns the retriever object for runtime use.\n",
    "    \"\"\"\n",
    "    print(\"\\n--- LOADING RAG 1 RETRIEVER ---\")\n",
    "    \n",
    "    if not os.path.exists(FAISS_INDEX_PATH):\n",
    "        # This is a critical error if the index should be pre-built\n",
    "        raise FileNotFoundError(\n",
    "            f\"FAISS index not found at {FAISS_INDEX_PATH}. \"\n",
    "            \"Please run 'create_and_save_ideal_index()' first.\"\n",
    "        )\n",
    "\n",
    "    # 1. Load Vector Store\n",
    "    # IMPORTANT: You still need the 'embeddings' model object to load the index\n",
    "    vectorstore = FAISS.load_local(\n",
    "        FAISS_INDEX_PATH, \n",
    "        embeddings, \n",
    "        allow_dangerous_deserialization=True # Required by LangChain for loading\n",
    "    )\n",
    "    print(\"FAISS index loaded successfully.\")\n",
    "\n",
    "    # 2. Return Retriever\n",
    "    return vectorstore.as_retriever(search_kwargs={\"k\": K})"
   ]
  },
  {
   "cell_type": "code",
   "execution_count": 3,
   "id": "efe487a4",
   "metadata": {},
   "outputs": [
    {
     "name": "stdout",
     "output_type": "stream",
     "text": [
      "\n",
      "--- LOADING RAG 1 RETRIEVER ---\n",
      "FAISS index loaded successfully.\n"
     ]
    }
   ],
   "source": [
    "# --- RAG 1: Ideal Clauses Configuration ---\n",
    "IDEAL_CLAUSES_FAISS = \"../faiss_index_ideal_clauses\"\n",
    "K = 3\n",
    "\n",
    "# --- GLOBAL RESOURCE INITIALIZATION (RAG 1) ---\n",
    "try:\n",
    "    # Assuming 'embeddings' is globally available and load_retriever is imported\n",
    "    ideal_clauses_retriever = load_retriever(IDEAL_CLAUSES_FAISS, K)\n",
    "except Exception as e:\n",
    "    print(f\"CRITICAL: Failed to load ideal clauses RAG index: {e}\")\n",
    "    ideal_clauses_retriever = None"
   ]
  }
 ],
 "metadata": {
  "kernelspec": {
   "display_name": "venv",
   "language": "python",
   "name": "python3"
  },
  "language_info": {
   "codemirror_mode": {
    "name": "ipython",
    "version": 3
   },
   "file_extension": ".py",
   "mimetype": "text/x-python",
   "name": "python",
   "nbconvert_exporter": "python",
   "pygments_lexer": "ipython3",
   "version": "3.13.7"
  }
 },
 "nbformat": 4,
 "nbformat_minor": 5
}
